{
 "cells": [
  {
   "cell_type": "code",
   "execution_count": 1,
   "id": "f8b1fc79",
   "metadata": {},
   "outputs": [
    {
     "name": "stdout",
     "output_type": "stream",
     "text": [
      "hi\n"
     ]
    }
   ],
   "source": [
    "print(\"hi\")"
   ]
  },
  {
   "cell_type": "code",
   "execution_count": 2,
   "id": "20bc221a",
   "metadata": {},
   "outputs": [
    {
     "name": "stdout",
     "output_type": "stream",
     "text": [
      "🔥 Version 2 update\n"
     ]
    }
   ],
   "source": [
    "print(\"🔥 Version 2 update\")\n"
   ]
  },
  {
   "cell_type": "code",
   "execution_count": 3,
   "id": "bc12bcfd",
   "metadata": {},
   "outputs": [
    {
     "name": "stdout",
     "output_type": "stream",
     "text": [
      "🔥 Version 3 update\n"
     ]
    }
   ],
   "source": [
    "print(\"🔥 Version 3 update\")"
   ]
  },
  {
   "cell_type": "code",
   "execution_count": 70,
   "id": "1f9a42b7",
   "metadata": {},
   "outputs": [
    {
     "name": "stdout",
     "output_type": "stream",
     "text": [
      "-rw-rw-r-- 1 kevinpyun kevinpyun 5.4G Aug  5 10:56 /home/kevinpyun/vllm-env/data.zip\n"
     ]
    }
   ],
   "source": [
    "### check the current size of the main dataset\n",
    "\n",
    "!ls -lh /home/kevinpyun/vllm-env/data.zip "
   ]
  },
  {
   "cell_type": "code",
   "execution_count": 72,
   "id": "eb881a67",
   "metadata": {},
   "outputs": [
    {
     "name": "stdout",
     "output_type": "stream",
     "text": [
      "✅ 압축 해제 완료: /home/kevinpyun/vllm-env/unzipped_v2\n"
     ]
    }
   ],
   "source": [
    "### unzip the file; save in unzipped_v2 to avoid conflicts\n",
    "\n",
    "import zipfile\n",
    "import os\n",
    "\n",
    "# 압축 파일 경로와 압축 해제 경로 지정\n",
    "zip_path = \"/home/kevinpyun/vllm-env/data.zip\"\n",
    "extract_path = \"/home/kevinpyun/vllm-env/unzipped_v2\"\n",
    "\n",
    "# 압축 해제 수행\n",
    "with zipfile.ZipFile(zip_path, 'r') as zip_ref:\n",
    "    zip_ref.extractall(extract_path)\n",
    "\n",
    "print(f\"✅ 압축 해제 완료: {extract_path}\")\n"
   ]
  }
 ],
 "metadata": {
  "kernelspec": {
   "display_name": "vllm-env",
   "language": "python",
   "name": "python3"
  },
  "language_info": {
   "codemirror_mode": {
    "name": "ipython",
    "version": 3
   },
   "file_extension": ".py",
   "mimetype": "text/x-python",
   "name": "python",
   "nbconvert_exporter": "python",
   "pygments_lexer": "ipython3",
   "version": "3.10.12"
  }
 },
 "nbformat": 4,
 "nbformat_minor": 5
}
